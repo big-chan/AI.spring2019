{
  "nbformat": 4,
  "nbformat_minor": 0,
  "metadata": {
    "colab": {
      "name": "AIassignment.ipynb",
      "version": "0.3.2",
      "provenance": [],
      "include_colab_link": true
    },
    "language_info": {
      "codemirror_mode": {
        "name": "ipython",
        "version": 3
      },
      "file_extension": ".py",
      "mimetype": "text/x-python",
      "name": "python",
      "nbconvert_exporter": "python",
      "pygments_lexer": "ipython3",
      "version": "3.7.1"
    },
    "kernelspec": {
      "display_name": "Python 3",
      "language": "python",
      "name": "python3"
    }
  },
  "cells": [
    {
      "cell_type": "markdown",
      "metadata": {
        "id": "view-in-github",
        "colab_type": "text"
      },
      "source": [
        "<a href=\"https://colab.research.google.com/github/big-chan/AI.spring2019/blob/master/AIassignment.ipynb\" target=\"_parent\"><img src=\"https://colab.research.google.com/assets/colab-badge.svg\" alt=\"Open In Colab\"/></a>"
      ]
    },
    {
      "metadata": {
        "id": "QvoFmleSgmyH",
        "colab_type": "code",
        "colab": {},
        "outputId": "12875232-5ad6-48fd-fbf9-e2e374abeea5"
      },
      "cell_type": "code",
      "source": [
        "import tensorflow as tf\n",
        "from matplotlib import pyplot as plt\n",
        "from numpy import *\n",
        "import os\n",
        "def gradient_descent(points, starting_b, starting_m, learning_rate, num_iterations):\n",
        "\n",
        "    #\n",
        "    # 본 함수를 완성하시오.\n",
        "    #   \n",
        "    x=points[:,0]\n",
        "    y=points[:,1]\n",
        "   \n",
        "    w=starting_m\n",
        "    b=starting_b\n",
        "    costgraph=[0]*num_iterations\n",
        "    for i in range(num_iterations):\n",
        "        h=w*x+b\n",
        "        cost=mean(y-h)\n",
        "        nw=cost*mean(-x)\n",
        "        nb=cost*(-1)\n",
        "        w-=learning_rate*nw\n",
        "        b-=learning_rate*nb\n",
        "        costgraph[i]=cost\n",
        "       \n",
        "    plt.plot(costgraph)\n",
        "    plt.show\n",
        "    return [b, w]\n",
        "if os.path.exists('20190407_data.csv')==False:\n",
        "    print('Train data downloading..')\n",
        "    ! curl 'https://raw.githubusercontent.com/unizard/2019.Spring.AI/master/20190407_data.csv' -o './20190407_data.csv'        \n",
        "    print('Done..\\n')\n",
        "else:\n",
        "    print('File already exists \\n')\n",
        "    \n",
        "\n",
        "\n",
        "\n",
        "def run():\n",
        "    points = genfromtxt(\"./20190407_data.csv\", delimiter=\",\")\n",
        "    learning_rate = 0.0001\n",
        "    initial_b = 0 # initial y-intercept guess\n",
        "    initial_m = 0 # initial slope guess\n",
        "    num_iterations = 1000\n",
        "    \n",
        "    print(\"========================\")\n",
        "    print(\" Start\")    \n",
        "    print(\"========================\")\n",
        "    [b, w] = gradient_descent(points, initial_b, initial_m, learning_rate, num_iterations)\n",
        "    print(\"b=\",b)\n",
        "    print(\"w=\",w)\n",
        "\n",
        "    \n",
        "    \n",
        "    \n",
        "if __name__ == '__main__':\n",
        "    run()\n"
      ],
      "execution_count": 0,
      "outputs": [
        {
          "output_type": "stream",
          "text": [
            "File already exists \n",
            "\n",
            "========================\n",
            " Start\n",
            "========================\n",
            "b= 0.03033256941857366\n",
            "w= 1.4850322910009823\n"
          ],
          "name": "stdout"
        },
        {
          "output_type": "display_data",
          "data": {
            "image/png": "[encoded data removed]",
            "text/plain": [
              "<Figure size 432x288 with 1 Axes>"
            ]
          },
          "metadata": {
            "tags": [],
            "needs_background": "light"
          }
        }
      ]
    },
    {
      "metadata": {
        "id": "-qqo_XgbgmyN",
        "colab_type": "code",
        "colab": {}
      },
      "cell_type": "code",
      "source": [
        ""
      ],
      "execution_count": 0,
      "outputs": []
    },
    {
      "metadata": {
        "id": "rHNrC9q3gmyP",
        "colab_type": "code",
        "colab": {}
      },
      "cell_type": "code",
      "source": [
        ""
      ],
      "execution_count": 0,
      "outputs": []
    },
    {
      "metadata": {
        "id": "wFkVgoU1gmyR",
        "colab_type": "code",
        "colab": {}
      },
      "cell_type": "code",
      "source": [
        ""
      ],
      "execution_count": 0,
      "outputs": []
    },
    {
      "metadata": {
        "id": "sEnlQEJFgmyT",
        "colab_type": "code",
        "colab": {}
      },
      "cell_type": "code",
      "source": [
        ""
      ],
      "execution_count": 0,
      "outputs": []
    }
  ]
}